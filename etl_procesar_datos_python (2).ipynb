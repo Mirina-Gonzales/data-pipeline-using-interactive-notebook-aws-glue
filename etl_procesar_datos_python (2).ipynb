{
	"metadata": {
		"kernelspec": {
			"name": "glue_pyspark",
			"display_name": "Glue PySpark",
			"language": "python"
		},
		"language_info": {
			"name": "Python_Glue_Session",
			"mimetype": "text/x-python",
			"codemirror_mode": {
				"name": "python",
				"version": 3
			},
			"pygments_lexer": "python3",
			"file_extension": ".py"
		}
	},
	"nbformat_minor": 4,
	"nbformat": 4,
	"cells": [
		{
			"cell_type": "code",
			"source": "#Importar libreria para trabajar con pandas\n%additional_python_modules awswrangler",
			"metadata": {
				"trusted": true,
				"tags": []
			},
			"execution_count": 2,
			"outputs": [
				{
					"name": "stdout",
					"text": "Welcome to the Glue Interactive Sessions Kernel\nFor more information on available magic commands, please type %help in any new cell.\n\nPlease view our Getting Started page to access the most up-to-date information on the Interactive Sessions kernel: https://docs.aws.amazon.com/glue/latest/dg/interactive-sessions.html\nInstalled kernel version: 1.0.2 \nAdditional python modules to be included:\nawswrangler\n",
					"output_type": "stream"
				}
			]
		},
		{
			"cell_type": "code",
			"source": "#---- Librerias python ---#\nimport json\nimport datetime\nimport boto3\nimport pandas as pd\nimport numpy as np\nimport awswrangler as wr",
			"metadata": {
				"trusted": true,
				"tags": []
			},
			"execution_count": 152,
			"outputs": [
				{
					"name": "stdout",
					"text": "\n",
					"output_type": "stream"
				}
			]
		},
		{
			"cell_type": "code",
			"source": "#Configuracion de pandas para visualizar las filas y columnas completas\npd.set_option('display.max_columns', None)\npd.set_option('display.max_rows', None)",
			"metadata": {
				"trusted": true,
				"tags": []
			},
			"execution_count": 153,
			"outputs": [
				{
					"name": "stdout",
					"text": "\n",
					"output_type": "stream"
				}
			]
		},
		{
			"cell_type": "code",
			"source": "#Definir lo paths \npath_source=\"s3://wo-data-origen/hotel_bookings_raw.csv\"\npath_target = 's3://wo-data-procesada/hotel_data/'",
			"metadata": {
				"trusted": true,
				"tags": []
			},
			"execution_count": 154,
			"outputs": [
				{
					"name": "stdout",
					"text": "\n",
					"output_type": "stream"
				}
			]
		},
		{
			"cell_type": "code",
			"source": "#cargar datos desde s3 usando awswrangler\ndf = wr.s3.read_csv(path=path_source)",
			"metadata": {
				"trusted": true,
				"tags": []
			},
			"execution_count": 155,
			"outputs": [
				{
					"name": "stdout",
					"text": "\n",
					"output_type": "stream"
				}
			]
		},
		{
			"cell_type": "markdown",
			"source": "### Seleccionar solo las columnas que usaremos",
			"metadata": {}
		},
		{
			"cell_type": "code",
			"source": "df = df[[ 'hotel', 'is_canceled', 'adults', 'children', 'babies', 'meal',\n       'country', 'is_repeated_guest', 'previous_cancellations',\n       'previous_bookings_not_canceled','deposit_type','market_segment',\n       'reservation_status', 'reservation_status_date','arrival_date_year']]",
			"metadata": {
				"trusted": true,
				"tags": []
			},
			"execution_count": 156,
			"outputs": [
				{
					"name": "stdout",
					"text": "\n",
					"output_type": "stream"
				}
			]
		},
		{
			"cell_type": "code",
			"source": "#Imprimir un registro\ndf.head(1)",
			"metadata": {
				"trusted": true,
				"tags": []
			},
			"execution_count": 157,
			"outputs": [
				{
					"name": "stdout",
					"text": "          hotel  is_canceled  adults  children  babies meal country  \\\n0  Resort Hotel            0       2       0.0       0   BB     PRT   \n\n   is_repeated_guest  previous_cancellations  previous_bookings_not_canceled  \\\n0                  0                       0                               0   \n\n  deposit_type market_segment reservation_status reservation_status_date  \\\n0   No Deposit         Direct          Check-Out                7/1/2015   \n\n   arrival_date_year  \n0               2015\n",
					"output_type": "stream"
				}
			]
		},
		{
			"cell_type": "markdown",
			"source": "### Crearemos un index por defecto y lo renombraremos con el nombre id_reservation",
			"metadata": {}
		},
		{
			"cell_type": "code",
			"source": "df = df.reset_index()",
			"metadata": {
				"trusted": true,
				"tags": []
			},
			"execution_count": 158,
			"outputs": [
				{
					"name": "stdout",
					"text": "\n",
					"output_type": "stream"
				}
			]
		},
		{
			"cell_type": "code",
			"source": "df = df.rename(columns={'index':'id_reservation'})",
			"metadata": {
				"trusted": true,
				"tags": []
			},
			"execution_count": 159,
			"outputs": [
				{
					"name": "stdout",
					"text": "\n",
					"output_type": "stream"
				}
			]
		},
		{
			"cell_type": "code",
			"source": "df.head(5)",
			"metadata": {
				"trusted": true,
				"tags": []
			},
			"execution_count": 160,
			"outputs": [
				{
					"name": "stdout",
					"text": "   id_reservation         hotel  is_canceled  adults  children  babies meal  \\\n0               0  Resort Hotel            0       2       0.0       0   BB   \n1               1  Resort Hotel            0       2       0.0       0   BB   \n2               2  Resort Hotel            0       1       0.0       0   BB   \n3               3  Resort Hotel            0       1       0.0       0   BB   \n4               4  Resort Hotel            0       2       0.0       0   BB   \n\n  country  is_repeated_guest  previous_cancellations  \\\n0     PRT                  0                       0   \n1     PRT                  0                       0   \n2     GBR                  0                       0   \n3     GBR                  0                       0   \n4     GBR                  0                       0   \n\n   previous_bookings_not_canceled deposit_type market_segment  \\\n0                               0   No Deposit         Direct   \n1                               0   No Deposit         Direct   \n2                               0   No Deposit         Direct   \n3                               0   No Deposit      Corporate   \n4                               0   No Deposit      Online TA   \n\n  reservation_status reservation_status_date  arrival_date_year  \n0          Check-Out                7/1/2015               2015  \n1          Check-Out                7/1/2015               2015  \n2          Check-Out                7/2/2015               2015  \n3          Check-Out                7/2/2015               2015  \n4          Check-Out                7/3/2015               2015\n",
					"output_type": "stream"
				}
			]
		},
		{
			"cell_type": "markdown",
			"source": "### Reemplazar datos",
			"metadata": {}
		},
		{
			"cell_type": "code",
			"source": "df['hotel'] = df['hotel'].replace({\"Resort Hotel\": 'ResortHotel', \"City Hotel\": 'CityHotel'})",
			"metadata": {
				"trusted": true,
				"tags": []
			},
			"execution_count": 161,
			"outputs": [
				{
					"name": "stdout",
					"text": "\n",
					"output_type": "stream"
				}
			]
		},
		{
			"cell_type": "code",
			"source": "df['hotel'].unique()",
			"metadata": {
				"trusted": true,
				"tags": []
			},
			"execution_count": 162,
			"outputs": [
				{
					"name": "stdout",
					"text": "array(['ResortHotel', 'CityHotel'], dtype=object)\n",
					"output_type": "stream"
				}
			]
		},
		{
			"cell_type": "markdown",
			"source": "### Filtrar la información del año mas reciente",
			"metadata": {
				"tags": []
			}
		},
		{
			"cell_type": "code",
			"source": "#Los valores unicos de la columna arrival_date_year son\ndf['arrival_date_year'].unique()",
			"metadata": {
				"trusted": true,
				"tags": []
			},
			"execution_count": 163,
			"outputs": [
				{
					"name": "stdout",
					"text": "array([2015, 2016, 2017])\n",
					"output_type": "stream"
				}
			]
		},
		{
			"cell_type": "code",
			"source": "df = df[df['arrival_date_year'] == 2017]",
			"metadata": {
				"trusted": true,
				"tags": []
			},
			"execution_count": 164,
			"outputs": [
				{
					"name": "stdout",
					"text": "\n",
					"output_type": "stream"
				}
			]
		},
		{
			"cell_type": "code",
			"source": "df['arrival_date_year'].unique()",
			"metadata": {
				"trusted": true,
				"tags": []
			},
			"execution_count": 165,
			"outputs": [
				{
					"name": "stdout",
					"text": "array([2017])\n",
					"output_type": "stream"
				}
			]
		},
		{
			"cell_type": "code",
			"source": "#validamos que la cantidad de registros ha disminuido\nlen(df)",
			"metadata": {
				"trusted": true,
				"tags": []
			},
			"execution_count": 166,
			"outputs": [
				{
					"name": "stdout",
					"text": "40687\n",
					"output_type": "stream"
				}
			]
		},
		{
			"cell_type": "code",
			"source": "df.head(3)",
			"metadata": {
				"trusted": true,
				"tags": []
			},
			"execution_count": 167,
			"outputs": [
				{
					"name": "stdout",
					"text": "      id_reservation        hotel  is_canceled  adults  children  babies meal  \\\n9775            9775  ResortHotel            1       2       0.0       0   BB   \n9776            9776  ResortHotel            1       2       0.0       0   BB   \n9777            9777  ResortHotel            1       2       0.0       0   BB   \n\n     country  is_repeated_guest  previous_cancellations  \\\n9775     PRT                  0                       0   \n9776     AUT                  0                       0   \n9777     AUT                  0                       0   \n\n      previous_bookings_not_canceled deposit_type market_segment  \\\n9775                               0   No Deposit      Online TA   \n9776                               0   No Deposit      Online TA   \n9777                               0   No Deposit      Online TA   \n\n     reservation_status reservation_status_date  arrival_date_year  \n9775           Canceled              10/20/2016               2017  \n9776           Canceled               12/4/2016               2017  \n9777           Canceled              11/11/2016               2017\n",
					"output_type": "stream"
				}
			]
		},
		{
			"cell_type": "markdown",
			"source": "### Filtrar el market_Segment ('Direct', 'Corporate', 'Complementary', 'Aviation')",
			"metadata": {
				"tags": []
			}
		},
		{
			"cell_type": "code",
			"source": "df = df[df['market_segment'].isin(['Direct', 'Corporate',  'Aviation'])]\ndf.head(3)",
			"metadata": {
				"trusted": true,
				"tags": []
			},
			"execution_count": 168,
			"outputs": [
				{
					"name": "stdout",
					"text": "      id_reservation        hotel  is_canceled  adults  children  babies meal  \\\n9787            9787  ResortHotel            1       2       0.0       0   BB   \n9792            9792  ResortHotel            1       2       0.0       0   BB   \n9799            9799  ResortHotel            1       2       1.0       0   BB   \n\n     country  is_repeated_guest  previous_cancellations  \\\n9787     BRA                  0                       0   \n9792     PRT                  0                       0   \n9799     BRA                  0                       0   \n\n      previous_bookings_not_canceled deposit_type market_segment  \\\n9787                               0   No Deposit         Direct   \n9792                               0   No Deposit         Direct   \n9799                               0   No Deposit         Direct   \n\n     reservation_status reservation_status_date  arrival_date_year  \n9787           Canceled              12/24/2016               2017  \n9792           Canceled               12/5/2016               2017  \n9799           Canceled              12/23/2016               2017\n",
					"output_type": "stream"
				}
			]
		},
		{
			"cell_type": "code",
			"source": "df['market_segment'].unique()",
			"metadata": {
				"trusted": true,
				"tags": []
			},
			"execution_count": 169,
			"outputs": [
				{
					"name": "stdout",
					"text": "array(['Direct', 'Corporate', 'Aviation'], dtype=object)\n",
					"output_type": "stream"
				}
			]
		},
		{
			"cell_type": "markdown",
			"source": "### Convertimos todos los valores a minuscula de la columan deposit_type",
			"metadata": {
				"tags": []
			}
		},
		{
			"cell_type": "code",
			"source": "df['deposit_type'].unique()",
			"metadata": {
				"trusted": true,
				"tags": []
			},
			"execution_count": 170,
			"outputs": [
				{
					"name": "stdout",
					"text": "array(['No Deposit', 'Non Refund', 'Refundable'], dtype=object)\n",
					"output_type": "stream"
				}
			]
		},
		{
			"cell_type": "code",
			"source": "#Limpiar columna 1. poner a todos minusculas 2. renombrar posibles opciones\ndf['deposit_type'] = df['deposit_type'].str.lower()",
			"metadata": {
				"trusted": true,
				"tags": []
			},
			"execution_count": 171,
			"outputs": [
				{
					"name": "stdout",
					"text": "\n",
					"output_type": "stream"
				}
			]
		},
		{
			"cell_type": "code",
			"source": "df['deposit_type'].unique()",
			"metadata": {
				"trusted": true,
				"tags": []
			},
			"execution_count": 172,
			"outputs": [
				{
					"name": "stdout",
					"text": "array(['no deposit', 'non refund', 'refundable'], dtype=object)\n",
					"output_type": "stream"
				}
			]
		},
		{
			"cell_type": "markdown",
			"source": "### Definimos el tipo de habitación considerando el market_segment y el hotel donde se hospeda",
			"metadata": {
				"tags": []
			}
		},
		{
			"cell_type": "code",
			"source": "df['market_segment'].unique()",
			"metadata": {
				"trusted": true,
				"tags": []
			},
			"execution_count": 173,
			"outputs": [
				{
					"name": "stdout",
					"text": "array(['Direct', 'Corporate', 'Aviation'], dtype=object)\n",
					"output_type": "stream"
				}
			]
		},
		{
			"cell_type": "code",
			"source": "df['hotel'].unique()",
			"metadata": {
				"trusted": true,
				"tags": []
			},
			"execution_count": 174,
			"outputs": [
				{
					"name": "stdout",
					"text": "array(['ResortHotel', 'CityHotel'], dtype=object)\n",
					"output_type": "stream"
				}
			]
		},
		{
			"cell_type": "code",
			"source": "##Crear uan columna tomando como condición otra columna del df",
			"metadata": {
				"trusted": true,
				"tags": []
			},
			"execution_count": 3,
			"outputs": []
		},
		{
			"cell_type": "code",
			"source": "conditions = [\n    (df['hotel'] == 'ResortHotel') & (df['market_segment'] == 'Direct'),\n    (df['hotel'] == 'ResortHotel') & (df['market_segment'] == 'Corporate'),\n    (df['hotel'] == 'ResortHotel') & (df['market_segment'] == 'Aviation'),\n    (df['hotel'] == 'CityHotel') & (df['market_segment'] == 'Direct'),\n    (df['hotel'] == 'CityHotel') & (df['market_segment'] == 'Aviation') | (df['market_segment'] == 'Corporate')]\nchoices = ['basic','vip', 'platinium', 'basic' ,'platinium']\ndf['room_client'] = np.select(conditions, choices, default='to define')\n",
			"metadata": {
				"trusted": true,
				"tags": []
			},
			"execution_count": 175,
			"outputs": [
				{
					"name": "stdout",
					"text": "\n",
					"output_type": "stream"
				}
			]
		},
		{
			"cell_type": "code",
			"source": "df['room_client'].unique()",
			"metadata": {
				"trusted": true,
				"tags": []
			},
			"execution_count": 176,
			"outputs": [
				{
					"name": "stdout",
					"text": "array(['basic', 'vip', 'platinium'], dtype=object)\n",
					"output_type": "stream"
				}
			]
		},
		{
			"cell_type": "markdown",
			"source": "## Guardar datos",
			"metadata": {}
		},
		{
			"cell_type": "code",
			"source": "df.head(1)",
			"metadata": {
				"trusted": true,
				"tags": []
			},
			"execution_count": 177,
			"outputs": [
				{
					"name": "stdout",
					"text": "      id_reservation        hotel  is_canceled  adults  children  babies meal  \\\n9787            9787  ResortHotel            1       2       0.0       0   BB   \n\n     country  is_repeated_guest  previous_cancellations  \\\n9787     BRA                  0                       0   \n\n      previous_bookings_not_canceled deposit_type market_segment  \\\n9787                               0   no deposit         Direct   \n\n     reservation_status reservation_status_date  arrival_date_year room_client  \n9787           Canceled              12/24/2016               2017       basic\n",
					"output_type": "stream"
				}
			]
		},
		{
			"cell_type": "code",
			"source": "path_target",
			"metadata": {
				"trusted": true,
				"tags": []
			},
			"execution_count": 140,
			"outputs": [
				{
					"name": "stdout",
					"text": "'s3://wo-data-procesada/hotel_data/'\n",
					"output_type": "stream"
				}
			]
		},
		{
			"cell_type": "code",
			"source": "#Guardar los datos teniendo como partición la columna hotel",
			"metadata": {},
			"execution_count": null,
			"outputs": []
		},
		{
			"cell_type": "code",
			"source": "wr.s3.to_parquet(\n    df=df,\n    path=path_target,\n    dataset=True,\n    partition_cols=['hotel']\n)",
			"metadata": {
				"trusted": true,
				"tags": []
			},
			"execution_count": 178,
			"outputs": [
				{
					"name": "stdout",
					"text": "{'paths': ['s3://wo-data-procesada/hotel_data/hotel=CityHotel/913b731401e949cb987623bb91b3b2ee.snappy.parquet', 's3://wo-data-procesada/hotel_data/hotel=ResortHotel/913b731401e949cb987623bb91b3b2ee.snappy.parquet'], 'partitions_values': {'s3://wo-data-procesada/hotel_data/hotel=CityHotel/': ['CityHotel'], 's3://wo-data-procesada/hotel_data/hotel=ResortHotel/': ['ResortHotel']}}\n/home/spark/.local/lib/python3.10/site-packages/awswrangler/s3/_write_dataset.py:153: FutureWarning: In a future version of pandas, a length 1 tuple will be returned when iterating over a groupby with a grouper equal to a list of length 1. Don't supply a list with a single grouper to avoid this warning.\n  for keys, subgroup in df.groupby(by=partition_cols, observed=True):\n",
					"output_type": "stream"
				}
			]
		}
	]
}